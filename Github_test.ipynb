{
  "nbformat": 4,
  "nbformat_minor": 0,
  "metadata": {
    "colab": {
      "provenance": [],
      "authorship_tag": "ABX9TyMWeNuaiHJnD9S6LxhOxYH1",
      "include_colab_link": true
    },
    "kernelspec": {
      "name": "python3",
      "display_name": "Python 3"
    },
    "language_info": {
      "name": "python"
    }
  },
  "cells": [
    {
      "cell_type": "markdown",
      "metadata": {
        "id": "view-in-github",
        "colab_type": "text"
      },
      "source": [
        "<a href=\"https://colab.research.google.com/github/Zonlee12138/jupyter/blob/main/Github_test.ipynb\" target=\"_parent\"><img src=\"https://colab.research.google.com/assets/colab-badge.svg\" alt=\"Open In Colab\"/></a>"
      ]
    },
    {
      "cell_type": "markdown",
      "source": [
        "# My name is Zongjie Zhang"
      ],
      "metadata": {
        "id": "5sRUYn8Sv62l"
      }
    },
    {
      "cell_type": "code",
      "execution_count": 2,
      "metadata": {
        "colab": {
          "base_uri": "https://localhost:8080/"
        },
        "id": "xgLFPQM0vvu2",
        "outputId": "6d7c8d6f-695c-421e-915d-5bdae04c7338"
      },
      "outputs": [
        {
          "output_type": "stream",
          "name": "stdout",
          "text": [
            "me\n"
          ]
        }
      ],
      "source": [
        "print('me')"
      ]
    },
    {
      "cell_type": "code",
      "source": [],
      "metadata": {
        "id": "IT3D2AGFwDFr"
      },
      "execution_count": null,
      "outputs": []
    }
  ]
}